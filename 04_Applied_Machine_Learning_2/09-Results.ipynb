{
 "cells": [
  {
   "cell_type": "code",
   "execution_count": 1,
   "id": "bdc31096-2598-4fb0-82ae-8a36d24a6155",
   "metadata": {},
   "outputs": [],
   "source": [
    "import pandas as pd\n",
    "import numpy as np\n",
    "\n",
    "import seaborn as sns\n",
    "import matplotlib.pyplot as plt"
   ]
  },
  {
   "cell_type": "markdown",
   "id": "1683ae86-99a1-4bf0-b59a-48521f7d649c",
   "metadata": {},
   "source": [
    "# Final comparison\n",
    "Collect the test accuracy of all of the models"
   ]
  },
  {
   "cell_type": "code",
   "execution_count": 2,
   "id": "e62c3c62-09c2-4ca6-97ce-cd0cfe472d1b",
   "metadata": {},
   "outputs": [],
   "source": [
    "models = ['kNN', 'decision_tree', 'random_forest', 'logistic', 'linear_svm', 'svm_rbf', '1_layer_nn', '2_layer_nn', 'cnn']\n",
    "accuracy = [0.96, 0.88, 0.94, 0.92, 0.92, 0.96, 0.92, 0.96, 0.52]"
   ]
  },
  {
   "cell_type": "code",
   "execution_count": 3,
   "id": "e0209eb7-2172-4b3a-986f-01460cd09d96",
   "metadata": {},
   "outputs": [],
   "source": [
    "df_results = pd.DataFrame([models, accuracy], index=['model', 'test_accuracy']).T"
   ]
  },
  {
   "cell_type": "code",
   "execution_count": 4,
   "id": "f4cae640-f5ce-4d06-a07b-95af4a5e2cff",
   "metadata": {},
   "outputs": [
    {
     "data": {
      "text/html": [
       "<div>\n",
       "<style scoped>\n",
       "    .dataframe tbody tr th:only-of-type {\n",
       "        vertical-align: middle;\n",
       "    }\n",
       "\n",
       "    .dataframe tbody tr th {\n",
       "        vertical-align: top;\n",
       "    }\n",
       "\n",
       "    .dataframe thead th {\n",
       "        text-align: right;\n",
       "    }\n",
       "</style>\n",
       "<table border=\"1\" class=\"dataframe\">\n",
       "  <thead>\n",
       "    <tr style=\"text-align: right;\">\n",
       "      <th></th>\n",
       "      <th>model</th>\n",
       "      <th>test_accuracy</th>\n",
       "    </tr>\n",
       "  </thead>\n",
       "  <tbody>\n",
       "    <tr>\n",
       "      <th>0</th>\n",
       "      <td>kNN</td>\n",
       "      <td>0.96</td>\n",
       "    </tr>\n",
       "    <tr>\n",
       "      <th>1</th>\n",
       "      <td>decision_tree</td>\n",
       "      <td>0.88</td>\n",
       "    </tr>\n",
       "    <tr>\n",
       "      <th>2</th>\n",
       "      <td>random_forest</td>\n",
       "      <td>0.94</td>\n",
       "    </tr>\n",
       "    <tr>\n",
       "      <th>3</th>\n",
       "      <td>logistic</td>\n",
       "      <td>0.92</td>\n",
       "    </tr>\n",
       "    <tr>\n",
       "      <th>4</th>\n",
       "      <td>linear_svm</td>\n",
       "      <td>0.92</td>\n",
       "    </tr>\n",
       "    <tr>\n",
       "      <th>5</th>\n",
       "      <td>svm_rbf</td>\n",
       "      <td>0.96</td>\n",
       "    </tr>\n",
       "    <tr>\n",
       "      <th>6</th>\n",
       "      <td>1_layer_nn</td>\n",
       "      <td>0.92</td>\n",
       "    </tr>\n",
       "    <tr>\n",
       "      <th>7</th>\n",
       "      <td>2_layer_nn</td>\n",
       "      <td>0.96</td>\n",
       "    </tr>\n",
       "    <tr>\n",
       "      <th>8</th>\n",
       "      <td>cnn</td>\n",
       "      <td>0.52</td>\n",
       "    </tr>\n",
       "  </tbody>\n",
       "</table>\n",
       "</div>"
      ],
      "text/plain": [
       "           model test_accuracy\n",
       "0            kNN          0.96\n",
       "1  decision_tree          0.88\n",
       "2  random_forest          0.94\n",
       "3       logistic          0.92\n",
       "4     linear_svm          0.92\n",
       "5        svm_rbf          0.96\n",
       "6     1_layer_nn          0.92\n",
       "7     2_layer_nn          0.96\n",
       "8            cnn          0.52"
      ]
     },
     "execution_count": 4,
     "metadata": {},
     "output_type": "execute_result"
    }
   ],
   "source": [
    "df_results"
   ]
  },
  {
   "cell_type": "code",
   "execution_count": 5,
   "id": "5381b0d2-f2c4-4b29-8ff2-3098fc866984",
   "metadata": {},
   "outputs": [
    {
     "data": {
      "text/plain": [
       "<Axes: xlabel='model', ylabel='test_accuracy'>"
      ]
     },
     "execution_count": 5,
     "metadata": {},
     "output_type": "execute_result"
    },
    {
     "data": {
      "image/png": "[encoded data removed]",
      "text/plain": [
       "<Figure size 1200x400 with 1 Axes>"
      ]
     },
     "metadata": {},
     "output_type": "display_data"
    }
   ],
   "source": [
    "plt.figure(figsize=(12,4))\n",
    "sns.barplot(df_results, x='model', y='test_accuracy')"
   ]
  },
  {
   "cell_type": "markdown",
   "id": "e885f2ed-8b84-45fd-9224-e2d050fca8e7",
   "metadata": {},
   "source": [
    "The best models are **KNN**, **2-layer Neural Network** and **RBF SVM** with 98% of accuracy.  \n",
    "The worst model is the **Convolutional Neural Network** with 52% of accuracy.  \n",
    "A result, training the model on the **high-level features** results in a better accuracy with respect to training that on the image array."
   ]
  }
 ],
 "metadata": {
  "kernelspec": {
   "display_name": "Python 3 (ipykernel)",
   "language": "python",
   "name": "python3"
  },
  "language_info": {
   "codemirror_mode": {
    "name": "ipython",
    "version": 3
   },
   "file_extension": ".py",
   "mimetype": "text/x-python",
   "name": "python",
   "nbconvert_exporter": "python",
   "pygments_lexer": "ipython3",
   "version": "3.9.18"
  }
 },
 "nbformat": 4,
 "nbformat_minor": 5
}
