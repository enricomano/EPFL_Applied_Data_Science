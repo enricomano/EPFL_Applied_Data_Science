{
 "cells": [
  {
   "cell_type": "code",
   "execution_count": 1,
   "id": "827944d5-5d2a-4c3c-bd71-0ed054744001",
   "metadata": {},
   "outputs": [],
   "source": [
    "import pandas as pd\n",
    "import numpy as np\n",
    "\n",
    "import matplotlib.pyplot as plt\n",
    "import seaborn as sns\n",
    "\n",
    "from sklearn.linear_model import LogisticRegression\n",
    "from sklearn.model_selection import GridSearchCV"
   ]
  },
  {
   "cell_type": "code",
   "execution_count": 2,
   "id": "5c141648-abf8-46d2-bed7-fd68a38995e9",
   "metadata": {},
   "outputs": [],
   "source": [
    "### Load the training array, labels and features\n",
    "train_array = np.load('train_array.npy')\n",
    "train_labels = np.load('train_labels.npy')\n",
    "train_features = np.load('train_features.npy')"
   ]
  },
  {
   "cell_type": "code",
   "execution_count": 3,
   "id": "112e6494-8929-4d71-92a6-38513f78b53e",
   "metadata": {},
   "outputs": [],
   "source": [
    "### Load the validation array, labels and features\n",
    "valid_array = np.load('valid_array.npy')\n",
    "valid_labels = np.load('valid_labels.npy')\n",
    "valid_features = np.load('valid_features.npy')"
   ]
  },
  {
   "cell_type": "code",
   "execution_count": 4,
   "id": "d6b2d284-d119-4362-acb9-b53f25670455",
   "metadata": {},
   "outputs": [],
   "source": [
    "### Load the test array, labels and features\n",
    "test_array = np.load('test_array.npy')\n",
    "test_labels = np.load('test_labels.npy')\n",
    "test_features = np.load('test_features.npy')"
   ]
  },
  {
   "cell_type": "code",
   "execution_count": 5,
   "id": "2f1cdd2e-4db4-4dc1-86b8-6d943d728c55",
   "metadata": {},
   "outputs": [],
   "source": [
    "### Create inputs and outputs for training ang validation\n",
    "X_train = train_features\n",
    "X_valid = valid_features\n",
    "X_test = test_features\n",
    "y_train = train_labels\n",
    "y_valid = valid_labels\n",
    "y_test = test_labels"
   ]
  },
  {
   "cell_type": "markdown",
   "id": "85c31f5a-d54f-48cc-803f-50e67e9bdf61",
   "metadata": {},
   "source": [
    "# Logistic regression\n",
    "Train and evaluate a logistic regression model (without any regularization `penalty=\"none\"` and without any hyperparameters tuning)."
   ]
  },
  {
   "cell_type": "code",
   "execution_count": 6,
   "id": "e44fd872-7f9e-4242-9a89-3a952a0d3c1a",
   "metadata": {},
   "outputs": [
    {
     "name": "stdout",
     "output_type": "stream",
     "text": [
      "Accuracy: 0.92\n"
     ]
    }
   ],
   "source": [
    "### Create a logistic regression model and fit it\n",
    "lr_model = LogisticRegression(penalty=None)\n",
    "lr_model.fit(X_train, y_train)\n",
    "### Compute the accuracy\n",
    "accuracy = lr_model.score(X_valid, y_valid)\n",
    "print('Accuracy: {:.2f}'.format(accuracy))"
   ]
  },
  {
   "cell_type": "markdown",
   "id": "55ba7773-1567-4c73-888b-432858288989",
   "metadata": {},
   "source": [
    "# Visualize the coefficients\n",
    "Get the model coefficients using the coef_ attribute of your estimator and visualize them using a heatmap.\n",
    "- What are the largest 5 coefficients for each category (i.e. the indices of these coefficients)?\n",
    "- Are these results consistent with your observations during the data exploration in the last question of Task 1?"
   ]
  },
  {
   "cell_type": "code",
   "execution_count": 7,
   "id": "2f912a43-7b08-40ff-b561-462f37fed5b6",
   "metadata": {},
   "outputs": [
    {
     "data": {
      "text/plain": [
       "(6, 1280)"
      ]
     },
     "execution_count": 7,
     "metadata": {},
     "output_type": "execute_result"
    }
   ],
   "source": [
    "### Print the shape of the coefficients\n",
    "lr_model.coef_.shape"
   ]
  },
  {
   "cell_type": "code",
   "execution_count": 8,
   "id": "e6aba998-632f-449c-b9fe-f155604088f0",
   "metadata": {},
   "outputs": [
    {
     "data": {
      "text/html": [
       "<div>\n",
       "<style scoped>\n",
       "    .dataframe tbody tr th:only-of-type {\n",
       "        vertical-align: middle;\n",
       "    }\n",
       "\n",
       "    .dataframe tbody tr th {\n",
       "        vertical-align: top;\n",
       "    }\n",
       "\n",
       "    .dataframe thead th {\n",
       "        text-align: right;\n",
       "    }\n",
       "</style>\n",
       "<table border=\"1\" class=\"dataframe\">\n",
       "  <thead>\n",
       "    <tr style=\"text-align: right;\">\n",
       "      <th></th>\n",
       "      <th>0</th>\n",
       "      <th>1</th>\n",
       "      <th>2</th>\n",
       "      <th>3</th>\n",
       "      <th>4</th>\n",
       "      <th>5</th>\n",
       "      <th>6</th>\n",
       "      <th>7</th>\n",
       "      <th>8</th>\n",
       "      <th>9</th>\n",
       "      <th>...</th>\n",
       "      <th>1270</th>\n",
       "      <th>1271</th>\n",
       "      <th>1272</th>\n",
       "      <th>1273</th>\n",
       "      <th>1274</th>\n",
       "      <th>1275</th>\n",
       "      <th>1276</th>\n",
       "      <th>1277</th>\n",
       "      <th>1278</th>\n",
       "      <th>1279</th>\n",
       "    </tr>\n",
       "  </thead>\n",
       "  <tbody>\n",
       "    <tr>\n",
       "      <th>0</th>\n",
       "      <td>0.036453</td>\n",
       "      <td>-0.002972</td>\n",
       "      <td>-0.001350</td>\n",
       "      <td>-0.031373</td>\n",
       "      <td>0.125126</td>\n",
       "      <td>-0.077177</td>\n",
       "      <td>-0.032230</td>\n",
       "      <td>-0.064796</td>\n",
       "      <td>0.013597</td>\n",
       "      <td>-0.007821</td>\n",
       "      <td>...</td>\n",
       "      <td>-0.071634</td>\n",
       "      <td>0.088183</td>\n",
       "      <td>0.050917</td>\n",
       "      <td>-0.093786</td>\n",
       "      <td>-0.026184</td>\n",
       "      <td>-0.006343</td>\n",
       "      <td>0.013371</td>\n",
       "      <td>-0.009996</td>\n",
       "      <td>-0.082181</td>\n",
       "      <td>0.209521</td>\n",
       "    </tr>\n",
       "    <tr>\n",
       "      <th>1</th>\n",
       "      <td>0.258501</td>\n",
       "      <td>0.047177</td>\n",
       "      <td>-0.082990</td>\n",
       "      <td>-0.050379</td>\n",
       "      <td>-0.131730</td>\n",
       "      <td>0.113081</td>\n",
       "      <td>-0.010822</td>\n",
       "      <td>-0.189034</td>\n",
       "      <td>-0.021972</td>\n",
       "      <td>0.002516</td>\n",
       "      <td>...</td>\n",
       "      <td>-0.126083</td>\n",
       "      <td>-0.042333</td>\n",
       "      <td>-0.016378</td>\n",
       "      <td>0.023298</td>\n",
       "      <td>-0.028540</td>\n",
       "      <td>0.106300</td>\n",
       "      <td>-0.075731</td>\n",
       "      <td>0.051317</td>\n",
       "      <td>0.162173</td>\n",
       "      <td>-0.006122</td>\n",
       "    </tr>\n",
       "    <tr>\n",
       "      <th>2</th>\n",
       "      <td>0.014707</td>\n",
       "      <td>-0.006000</td>\n",
       "      <td>0.014929</td>\n",
       "      <td>0.046977</td>\n",
       "      <td>-0.089695</td>\n",
       "      <td>-0.075338</td>\n",
       "      <td>0.033703</td>\n",
       "      <td>-0.087493</td>\n",
       "      <td>-0.063752</td>\n",
       "      <td>0.005345</td>\n",
       "      <td>...</td>\n",
       "      <td>0.005166</td>\n",
       "      <td>-0.016515</td>\n",
       "      <td>-0.012229</td>\n",
       "      <td>-0.123153</td>\n",
       "      <td>0.000622</td>\n",
       "      <td>-0.022945</td>\n",
       "      <td>0.054274</td>\n",
       "      <td>-0.029131</td>\n",
       "      <td>-0.136006</td>\n",
       "      <td>-0.043474</td>\n",
       "    </tr>\n",
       "    <tr>\n",
       "      <th>3</th>\n",
       "      <td>0.031294</td>\n",
       "      <td>0.232402</td>\n",
       "      <td>0.098282</td>\n",
       "      <td>0.041313</td>\n",
       "      <td>0.185006</td>\n",
       "      <td>0.035816</td>\n",
       "      <td>0.023824</td>\n",
       "      <td>0.117958</td>\n",
       "      <td>0.038058</td>\n",
       "      <td>-0.006191</td>\n",
       "      <td>...</td>\n",
       "      <td>0.169149</td>\n",
       "      <td>-0.089787</td>\n",
       "      <td>-0.009851</td>\n",
       "      <td>0.193871</td>\n",
       "      <td>-0.039289</td>\n",
       "      <td>0.010193</td>\n",
       "      <td>0.185415</td>\n",
       "      <td>-0.104800</td>\n",
       "      <td>-0.172934</td>\n",
       "      <td>-0.114999</td>\n",
       "    </tr>\n",
       "    <tr>\n",
       "      <th>4</th>\n",
       "      <td>-0.157233</td>\n",
       "      <td>-0.043822</td>\n",
       "      <td>0.025648</td>\n",
       "      <td>0.040798</td>\n",
       "      <td>-0.171628</td>\n",
       "      <td>-0.108400</td>\n",
       "      <td>-0.007318</td>\n",
       "      <td>0.127653</td>\n",
       "      <td>0.087450</td>\n",
       "      <td>0.008750</td>\n",
       "      <td>...</td>\n",
       "      <td>0.029048</td>\n",
       "      <td>0.119373</td>\n",
       "      <td>-0.005782</td>\n",
       "      <td>0.097609</td>\n",
       "      <td>0.142765</td>\n",
       "      <td>-0.013545</td>\n",
       "      <td>-0.099410</td>\n",
       "      <td>0.147405</td>\n",
       "      <td>0.395777</td>\n",
       "      <td>0.084874</td>\n",
       "    </tr>\n",
       "    <tr>\n",
       "      <th>5</th>\n",
       "      <td>-0.183721</td>\n",
       "      <td>-0.226785</td>\n",
       "      <td>-0.054520</td>\n",
       "      <td>-0.047336</td>\n",
       "      <td>0.082920</td>\n",
       "      <td>0.112018</td>\n",
       "      <td>-0.007157</td>\n",
       "      <td>0.095712</td>\n",
       "      <td>-0.053381</td>\n",
       "      <td>-0.002600</td>\n",
       "      <td>...</td>\n",
       "      <td>-0.005646</td>\n",
       "      <td>-0.058921</td>\n",
       "      <td>-0.006677</td>\n",
       "      <td>-0.097839</td>\n",
       "      <td>-0.049374</td>\n",
       "      <td>-0.073660</td>\n",
       "      <td>-0.077919</td>\n",
       "      <td>-0.054795</td>\n",
       "      <td>-0.166829</td>\n",
       "      <td>-0.129800</td>\n",
       "    </tr>\n",
       "  </tbody>\n",
       "</table>\n",
       "<p>6 rows × 1280 columns</p>\n",
       "</div>"
      ],
      "text/plain": [
       "       0         1         2         3         4         5         6     \\\n",
       "0  0.036453 -0.002972 -0.001350 -0.031373  0.125126 -0.077177 -0.032230   \n",
       "1  0.258501  0.047177 -0.082990 -0.050379 -0.131730  0.113081 -0.010822   \n",
       "2  0.014707 -0.006000  0.014929  0.046977 -0.089695 -0.075338  0.033703   \n",
       "3  0.031294  0.232402  0.098282  0.041313  0.185006  0.035816  0.023824   \n",
       "4 -0.157233 -0.043822  0.025648  0.040798 -0.171628 -0.108400 -0.007318   \n",
       "5 -0.183721 -0.226785 -0.054520 -0.047336  0.082920  0.112018 -0.007157   \n",
       "\n",
       "       7         8         9     ...      1270      1271      1272      1273  \\\n",
       "0 -0.064796  0.013597 -0.007821  ... -0.071634  0.088183  0.050917 -0.093786   \n",
       "1 -0.189034 -0.021972  0.002516  ... -0.126083 -0.042333 -0.016378  0.023298   \n",
       "2 -0.087493 -0.063752  0.005345  ...  0.005166 -0.016515 -0.012229 -0.123153   \n",
       "3  0.117958  0.038058 -0.006191  ...  0.169149 -0.089787 -0.009851  0.193871   \n",
       "4  0.127653  0.087450  0.008750  ...  0.029048  0.119373 -0.005782  0.097609   \n",
       "5  0.095712 -0.053381 -0.002600  ... -0.005646 -0.058921 -0.006677 -0.097839   \n",
       "\n",
       "       1274      1275      1276      1277      1278      1279  \n",
       "0 -0.026184 -0.006343  0.013371 -0.009996 -0.082181  0.209521  \n",
       "1 -0.028540  0.106300 -0.075731  0.051317  0.162173 -0.006122  \n",
       "2  0.000622 -0.022945  0.054274 -0.029131 -0.136006 -0.043474  \n",
       "3 -0.039289  0.010193  0.185415 -0.104800 -0.172934 -0.114999  \n",
       "4  0.142765 -0.013545 -0.099410  0.147405  0.395777  0.084874  \n",
       "5 -0.049374 -0.073660 -0.077919 -0.054795 -0.166829 -0.129800  \n",
       "\n",
       "[6 rows x 1280 columns]"
      ]
     },
     "execution_count": 8,
     "metadata": {},
     "output_type": "execute_result"
    }
   ],
   "source": [
    "### Create a dataframe with the coefficients\n",
    "df_coeff = pd.DataFrame(lr_model.coef_)\n",
    "df_coeff"
   ]
  },
  {
   "cell_type": "code",
   "execution_count": 9,
   "id": "5681f5bb-da7a-422c-9abf-352dd9215923",
   "metadata": {},
   "outputs": [
    {
     "data": {
      "text/plain": [
       "<Axes: >"
      ]
     },
     "execution_count": 9,
     "metadata": {},
     "output_type": "execute_result"
    },
    {
     "data": {
      "image/png": "[encoded data removed]",
      "text/plain": [
       "<Figure size 1000x500 with 2 Axes>"
      ]
     },
     "metadata": {},
     "output_type": "display_data"
    }
   ],
   "source": [
    "plt.figure(figsize=(10,5))\n",
    "sns.heatmap(df_coeff)"
   ]
  },
  {
   "cell_type": "code",
   "execution_count": 10,
   "id": "aa60fa9d-ad1f-4bfa-b988-0f450fa3e02f",
   "metadata": {},
   "outputs": [
    {
     "name": "stdout",
     "output_type": "stream",
     "text": [
      "Top 5 coefficients for the category 0\n",
      "801     0.457432\n",
      "54      0.401776\n",
      "1094    0.389775\n",
      "999     0.384856\n",
      "672     0.384647\n",
      "Name: 0, dtype: float64\n",
      "Top 5 coefficients for the category 1\n",
      "291     0.614731\n",
      "861     0.426456\n",
      "1170    0.416903\n",
      "871     0.416242\n",
      "183     0.413213\n",
      "Name: 1, dtype: float64\n",
      "Top 5 coefficients for the category 2\n",
      "1122    0.408200\n",
      "1043    0.374768\n",
      "1058    0.371092\n",
      "505     0.364561\n",
      "898     0.338976\n",
      "Name: 2, dtype: float64\n",
      "Top 5 coefficients for the category 3\n",
      "411     0.458748\n",
      "493     0.410522\n",
      "1231    0.406263\n",
      "734     0.401864\n",
      "812     0.388585\n",
      "Name: 3, dtype: float64\n",
      "Top 5 coefficients for the category 4\n",
      "580    0.593002\n",
      "378    0.533293\n",
      "555    0.524052\n",
      "794    0.477187\n",
      "335    0.451797\n",
      "Name: 4, dtype: float64\n",
      "Top 5 coefficients for the category 5\n",
      "138     0.472082\n",
      "1022    0.428553\n",
      "765     0.377435\n",
      "267     0.375533\n",
      "1172    0.372690\n",
      "Name: 5, dtype: float64\n"
     ]
    }
   ],
   "source": [
    "for i in range(6):\n",
    "    print(f'Top 5 coefficients for the category {i}')\n",
    "    print(df_coeff.loc[i].sort_values(ascending=False)[:5])"
   ]
  },
  {
   "cell_type": "markdown",
   "id": "b3f7ea8f-2835-4aa4-9f7d-1d0f71c886f9",
   "metadata": {},
   "source": [
    "The results are not fully consistent with the Task 1 because there are features that are missing"
   ]
  },
  {
   "cell_type": "markdown",
   "id": "61b10990-a2ec-479d-ae3f-739f885e980c",
   "metadata": {},
   "source": [
    "# $L_2$ regularization \n",
    "Set an “l2” regularization and tune the regularization strength parameter of the model with cross-validated grid-search."
   ]
  },
  {
   "cell_type": "code",
   "execution_count": 11,
   "id": "6ac35869-cd5e-4952-bc4a-7447375f1511",
   "metadata": {
    "scrolled": true
   },
   "outputs": [
    {
     "name": "stdout",
     "output_type": "stream",
     "text": [
      "Accuracy: 0.90\n",
      "Best parameters {'C': 100000.0, 'multi_class': 'ovr', 'penalty': 'l2', 'solver': 'lbfgs'}\n"
     ]
    }
   ],
   "source": [
    "lr_model_tune = LogisticRegression()\n",
    "\n",
    "params = {\n",
    "    'penalty': ['l2'],\n",
    "    'C': [1e-5, 1e-4, 1e-3, 1e-2, 1e-1, 1e0, 1e1, 1e2, 1e3, 1e4, 1e5, 1e6, 1e7, 1e8, 1e9],\n",
    "    'solver': ['lbfgs'],\n",
    "    'multi_class': ['ovr']\n",
    "}\n",
    "\n",
    "grid_model = GridSearchCV(estimator=lr_model_tune, param_grid=params, cv=5, scoring='accuracy', return_train_score=True)\n",
    "grid_model.fit(X_train, y_train)\n",
    "print('Accuracy: {:.2f}'.format(grid_model.best_score_))\n",
    "print('Best parameters {}'.format(grid_model.best_params_))"
   ]
  },
  {
   "cell_type": "code",
   "execution_count": 12,
   "id": "25984425-e5d3-489e-84c2-8d90b51f18a0",
   "metadata": {},
   "outputs": [
    {
     "name": "stdout",
     "output_type": "stream",
     "text": [
      "Accuracy: 0.90\n"
     ]
    }
   ],
   "source": [
    "best_lr_model = grid_model.best_estimator_\n",
    "best_lr_model.fit(X_train, y_train)\n",
    "accuracy = best_lr_model.score(X_valid, y_valid)\n",
    "print('Accuracy: {:.2f}'.format(accuracy))"
   ]
  },
  {
   "cell_type": "code",
   "execution_count": 13,
   "id": "3e4a550b-516e-45ef-83b9-0a21a4175b8d",
   "metadata": {},
   "outputs": [
    {
     "name": "stdout",
     "output_type": "stream",
     "text": [
      "Test accuracy: 0.92\n"
     ]
    }
   ],
   "source": [
    "print('Test accuracy: {:.2f}'.format(best_lr_model.score(X_test, y_test)))"
   ]
  },
  {
   "cell_type": "markdown",
   "id": "16ae0626-4031-46f6-abbd-e0a94282e715",
   "metadata": {},
   "source": [
    "# Results of grid search\n",
    "Report the result of cross-validated grid-search as a dataframe and interpret the result. In particular, briefly explain what are the `mean_train_score`, `mean_test_score`, `std_train_score` and `std_test_score`:\n",
    "- How are they obtained?\n",
    "- What do they measure?"
   ]
  },
  {
   "cell_type": "markdown",
   "id": "347a97ac-695a-40b8-a8e3-13868bd35243",
   "metadata": {},
   "source": [
    "Grid search splits the train set into five parts, four are used as training sets and 1 as validation set.  \n",
    "For each parameter values, grid search runs five times, changing everytime the sets and, before apply the new parameter, computes the mean and the standard deviation."
   ]
  },
  {
   "cell_type": "code",
   "execution_count": 14,
   "id": "0411af77-0e7b-4611-93c4-5b9c5745dde7",
   "metadata": {},
   "outputs": [],
   "source": [
    "### Create a dictionary with the grid search results\n",
    "score_columns = ['mean_train_score', 'std_train_score', 'mean_test_score', 'std_test_score']\n",
    "mydict = {x: grid_model.cv_results_[x] for x in score_columns}\n",
    "mydict['C'] = grid_model.param_grid['C']\n",
    "df = pd.DataFrame(mydict)"
   ]
  },
  {
   "cell_type": "code",
   "execution_count": 15,
   "id": "d19cea5e-387c-4dbb-b3d5-5efef9d212cf",
   "metadata": {},
   "outputs": [
    {
     "data": {
      "text/html": [
       "<div>\n",
       "<style scoped>\n",
       "    .dataframe tbody tr th:only-of-type {\n",
       "        vertical-align: middle;\n",
       "    }\n",
       "\n",
       "    .dataframe tbody tr th {\n",
       "        vertical-align: top;\n",
       "    }\n",
       "\n",
       "    .dataframe thead th {\n",
       "        text-align: right;\n",
       "    }\n",
       "</style>\n",
       "<table border=\"1\" class=\"dataframe\">\n",
       "  <thead>\n",
       "    <tr style=\"text-align: right;\">\n",
       "      <th></th>\n",
       "      <th>mean_train_score</th>\n",
       "      <th>std_train_score</th>\n",
       "      <th>mean_test_score</th>\n",
       "      <th>std_test_score</th>\n",
       "      <th>C</th>\n",
       "    </tr>\n",
       "  </thead>\n",
       "  <tbody>\n",
       "    <tr>\n",
       "      <th>0</th>\n",
       "      <td>0.431250</td>\n",
       "      <td>0.017313</td>\n",
       "      <td>0.421429</td>\n",
       "      <td>0.029014</td>\n",
       "      <td>0.00001</td>\n",
       "    </tr>\n",
       "    <tr>\n",
       "      <th>1</th>\n",
       "      <td>0.556250</td>\n",
       "      <td>0.013716</td>\n",
       "      <td>0.539286</td>\n",
       "      <td>0.020825</td>\n",
       "      <td>0.00010</td>\n",
       "    </tr>\n",
       "    <tr>\n",
       "      <th>2</th>\n",
       "      <td>0.842857</td>\n",
       "      <td>0.004374</td>\n",
       "      <td>0.796429</td>\n",
       "      <td>0.021429</td>\n",
       "      <td>0.00100</td>\n",
       "    </tr>\n",
       "    <tr>\n",
       "      <th>3</th>\n",
       "      <td>0.986607</td>\n",
       "      <td>0.003993</td>\n",
       "      <td>0.885714</td>\n",
       "      <td>0.026726</td>\n",
       "      <td>0.01000</td>\n",
       "    </tr>\n",
       "    <tr>\n",
       "      <th>4</th>\n",
       "      <td>1.000000</td>\n",
       "      <td>0.000000</td>\n",
       "      <td>0.896429</td>\n",
       "      <td>0.026245</td>\n",
       "      <td>0.10000</td>\n",
       "    </tr>\n",
       "  </tbody>\n",
       "</table>\n",
       "</div>"
      ],
      "text/plain": [
       "   mean_train_score  std_train_score  mean_test_score  std_test_score        C\n",
       "0          0.431250         0.017313         0.421429        0.029014  0.00001\n",
       "1          0.556250         0.013716         0.539286        0.020825  0.00010\n",
       "2          0.842857         0.004374         0.796429        0.021429  0.00100\n",
       "3          0.986607         0.003993         0.885714        0.026726  0.01000\n",
       "4          1.000000         0.000000         0.896429        0.026245  0.10000"
      ]
     },
     "execution_count": 15,
     "metadata": {},
     "output_type": "execute_result"
    }
   ],
   "source": [
    "df.head()"
   ]
  },
  {
   "cell_type": "code",
   "execution_count": 16,
   "id": "874c6d29-4e92-40d6-be67-9b61420b00b9",
   "metadata": {},
   "outputs": [
    {
     "data": {
      "text/plain": [
       "<matplotlib.legend.Legend at 0x1daacbd8100>"
      ]
     },
     "execution_count": 16,
     "metadata": {},
     "output_type": "execute_result"
    },
    {
     "data": {
      "image/png": "[encoded data removed]",
      "text/plain": [
       "<Figure size 640x480 with 1 Axes>"
      ]
     },
     "metadata": {},
     "output_type": "display_data"
    }
   ],
   "source": [
    "# Plot mean scores\n",
    "plt.plot(df.C, df.mean_train_score, label=\"train\")\n",
    "plt.plot(df.C, df.mean_test_score, label=\"validation\")\n",
    "\n",
    "# Quantify variance with ±std curves\n",
    "plt.fill_between(df.C, df.mean_train_score - df.std_train_score, df.mean_train_score + df.std_train_score, alpha=0.2)\n",
    "plt.fill_between(df.C, df.mean_test_score - df.std_test_score, df.mean_test_score + df.std_test_score, alpha=0.2)\n",
    "plt.xscale('log')\n",
    "plt.ylabel(\"accuracy\")\n",
    "plt.xlabel(\"C\")\n",
    "plt.legend()"
   ]
  },
  {
   "cell_type": "markdown",
   "id": "cb573567-7f18-40fc-984d-138f964b6bed",
   "metadata": {},
   "source": [
    "# Check for overfitting \n",
    "Do the training and validation curves indicate overfitting?"
   ]
  },
  {
   "cell_type": "markdown",
   "id": "d81df316-9a99-49f6-836d-8eee2ca1bd5c",
   "metadata": {},
   "source": [
    "The training accuracy increases till 1 for $C \\geq 0.01$.  \n",
    "At this point the validation accuracy will remain constant, i.e. adding new data does not worsen the accuracy.  "
   ]
  }
 ],
 "metadata": {
  "kernelspec": {
   "display_name": "Python 3 (ipykernel)",
   "language": "python",
   "name": "python3"
  },
  "language_info": {
   "codemirror_mode": {
    "name": "ipython",
    "version": 3
   },
   "file_extension": ".py",
   "mimetype": "text/x-python",
   "name": "python",
   "nbconvert_exporter": "python",
   "pygments_lexer": "ipython3",
   "version": "3.9.18"
  }
 },
 "nbformat": 4,
 "nbformat_minor": 5
}
