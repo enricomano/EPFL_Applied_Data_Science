{
 "cells": [
  {
   "cell_type": "code",
   "execution_count": 1,
   "id": "e27a0780-74d6-40fa-b1b9-2ba442f198ce",
   "metadata": {},
   "outputs": [],
   "source": [
    "import pandas as pd\n",
    "import numpy as np\n",
    "\n",
    "import matplotlib.pyplot as plt\n",
    "import seaborn as sns\n",
    "\n",
    "from sklearn.model_selection import GridSearchCV\n",
    "from sklearn.svm import LinearSVC\n",
    "from sklearn.svm import SVC"
   ]
  },
  {
   "cell_type": "code",
   "execution_count": 2,
   "id": "2cfc7bf1-b434-48ef-842e-bde23916b511",
   "metadata": {},
   "outputs": [],
   "source": [
    "### Load the training array, labels and features\n",
    "train_array = np.load('train_array.npy')\n",
    "train_labels = np.load('train_labels.npy')\n",
    "train_features = np.load('train_features.npy')"
   ]
  },
  {
   "cell_type": "code",
   "execution_count": 3,
   "id": "599a8818-4c34-4bc9-b9ba-11f9b11bf76a",
   "metadata": {},
   "outputs": [],
   "source": [
    "### Load the validation array, labels and features\n",
    "valid_array = np.load('valid_array.npy')\n",
    "valid_labels = np.load('valid_labels.npy')\n",
    "valid_features = np.load('valid_features.npy')"
   ]
  },
  {
   "cell_type": "code",
   "execution_count": 4,
   "id": "97c17c1f-7ba7-409e-8a78-36a04f6842b5",
   "metadata": {},
   "outputs": [],
   "source": [
    "### Load the test array, labels and features\n",
    "test_array = np.load('test_array.npy')\n",
    "test_labels = np.load('test_labels.npy')\n",
    "test_features = np.load('test_features.npy')"
   ]
  },
  {
   "cell_type": "code",
   "execution_count": 5,
   "id": "9e3867a3-2de3-41b4-bb3a-125e85ce915e",
   "metadata": {},
   "outputs": [],
   "source": [
    "### Create inputs and outputs for training ang validation\n",
    "X_train = train_features\n",
    "X_valid = valid_features\n",
    "X_test = test_features\n",
    "y_train = train_labels\n",
    "y_valid = valid_labels\n",
    "y_test = test_labels"
   ]
  },
  {
   "cell_type": "markdown",
   "id": "5d8a7b49-e816-4085-8c8b-a269606458b8",
   "metadata": {},
   "source": [
    "# SVM Classifier\n",
    "Try with an SVM classifier. Does the RBF kernel perform better than the linear one? You don’t need to tune the hyperparameters."
   ]
  },
  {
   "cell_type": "markdown",
   "id": "8549e31f-362b-408b-8379-41fe34f31982",
   "metadata": {},
   "source": [
    "## Linear SVC"
   ]
  },
  {
   "cell_type": "code",
   "execution_count": 6,
   "id": "e2cfa8ed-bca8-4582-8ff4-d58ff72fe36f",
   "metadata": {},
   "outputs": [
    {
     "name": "stdout",
     "output_type": "stream",
     "text": [
      "Accuracy: 0.91\n"
     ]
    }
   ],
   "source": [
    "lsvc_model = LinearSVC(random_state=0, dual='auto')\n",
    "lsvc_model.fit(X_train, y_train)\n",
    "accuracy = lsvc_model.score(X_valid, y_valid)\n",
    "print('Accuracy: {:.2f}'.format(accuracy))"
   ]
  },
  {
   "cell_type": "code",
   "execution_count": 7,
   "id": "c7f55f3b-e0e4-49c7-9649-f2731363021d",
   "metadata": {},
   "outputs": [
    {
     "name": "stdout",
     "output_type": "stream",
     "text": [
      "Test accuracy: 0.92\n"
     ]
    }
   ],
   "source": [
    "print('Test accuracy: {:.2f}'.format(lsvc_model.score(X_test, y_test)))"
   ]
  },
  {
   "cell_type": "markdown",
   "id": "23fa5920-abc9-4911-85a1-00fd57722dab",
   "metadata": {},
   "source": [
    "## RBF"
   ]
  },
  {
   "cell_type": "code",
   "execution_count": 8,
   "id": "f4c50e40-76e2-4191-a4fa-4ca4c1bddf31",
   "metadata": {},
   "outputs": [
    {
     "name": "stdout",
     "output_type": "stream",
     "text": [
      "Accuracy: 0.92\n"
     ]
    }
   ],
   "source": [
    "rbf_model = SVC(kernel='rbf', gamma='auto', random_state=0)\n",
    "rbf_model.fit(X_train, y_train)\n",
    "accuracy = rbf_model.score(X_valid, y_valid)\n",
    "print('Accuracy: {:.2f}'.format(accuracy))"
   ]
  },
  {
   "cell_type": "code",
   "execution_count": 9,
   "id": "ec25cc1a-87e2-484a-9ed0-b172a045a4fe",
   "metadata": {},
   "outputs": [
    {
     "name": "stdout",
     "output_type": "stream",
     "text": [
      "Test accuracy: 0.96\n"
     ]
    }
   ],
   "source": [
    "print('Test accuracy: {:.2f}'.format(rbf_model.score(X_test, y_test)))"
   ]
  },
  {
   "cell_type": "markdown",
   "id": "fb9310b2-f947-4eb3-b535-3db888853b0a",
   "metadata": {},
   "source": [
    "The **RBF** performs better then the **Linear** and the test accuracy increases"
   ]
  },
  {
   "cell_type": "markdown",
   "id": "29b97f3f-d850-4a59-97e6-63db946fc642",
   "metadata": {},
   "source": [
    "Pick ten images and compute the probability for each category using the `predict_proba()` function of the best SVM estimator you found in the previous question. Plot the results for each image and comment your findings. For example, you can plot the ten images in subplots and collect the probabilities in a DataFrame."
   ]
  },
  {
   "cell_type": "markdown",
   "id": "a8430652-fc23-4e86-ac17-04b4472fd173",
   "metadata": {},
   "source": [
    "Finally, vary the regularization strength of your SVM estimator (e.g. once using a C value of 0.0001 and once of 1000). What is the effect on the probabilities? Write your observations in a markdown cell."
   ]
  },
  {
   "cell_type": "markdown",
   "id": "bff6e503-0021-4a0a-80f3-d6f3e993daff",
   "metadata": {},
   "source": [
    "### Tuning hyperparameters"
   ]
  },
  {
   "cell_type": "code",
   "execution_count": 10,
   "id": "af0512ff-3a98-4883-8e46-ef7bd235b552",
   "metadata": {},
   "outputs": [],
   "source": [
    "C_reg = [1e-5, 1e-4, 1e-3, 1e-2, 1e-1, 1, 1e1, 1e2, 1e3, 1e4, 1e5]\n",
    "acc = []\n",
    "for cr in C_reg:\n",
    "    tune_rbf_model = SVC(C=cr, kernel='rbf', gamma='auto', random_state=0)\n",
    "    tune_rbf_model.fit(X_train, y_train)\n",
    "    acc.append(tune_rbf_model.score(X_valid, y_valid))"
   ]
  },
  {
   "cell_type": "code",
   "execution_count": 11,
   "id": "af848534-1d61-4917-855c-aa119699a53d",
   "metadata": {},
   "outputs": [
    {
     "data": {
      "text/plain": [
       "Text(0, 0.5, 'Accuracy')"
      ]
     },
     "execution_count": 11,
     "metadata": {},
     "output_type": "execute_result"
    },
    {
     "data": {
      "image/png": "[encoded data removed]",
      "text/plain": [
       "<Figure size 640x480 with 1 Axes>"
      ]
     },
     "metadata": {},
     "output_type": "display_data"
    }
   ],
   "source": [
    "plt.title('Accuracy vs Regularization parameter')\n",
    "plt.plot(np.log10(C_reg), acc, '.-')\n",
    "# plt.xscale('log')\n",
    "plt.xlabel('C')\n",
    "plt.ylabel('Accuracy')"
   ]
  },
  {
   "cell_type": "markdown",
   "id": "a27dccbc-7c13-4ff1-ab68-680d799ad80e",
   "metadata": {},
   "source": [
    "From **C=1** (same as default) the accuracy reaches its maximum and is kept constant by increasing the regularization term. "
   ]
  },
  {
   "cell_type": "code",
   "execution_count": 12,
   "id": "6be5fd38-1d16-4b31-bd64-c36dea164362",
   "metadata": {},
   "outputs": [
    {
     "name": "stdout",
     "output_type": "stream",
     "text": [
      "Accuracy: 0.92\n"
     ]
    }
   ],
   "source": [
    "best_rbf_model = SVC(C=1, kernel='rbf', gamma='auto', random_state=0)\n",
    "best_rbf_model.fit(X_train, y_train)\n",
    "accuracy = best_rbf_model.score(X_valid, y_valid)\n",
    "print('Accuracy: {:.2f}'.format(accuracy))"
   ]
  },
  {
   "cell_type": "code",
   "execution_count": 13,
   "id": "cbf2669f-9ace-4a98-9ead-317111bcba54",
   "metadata": {},
   "outputs": [
    {
     "name": "stdout",
     "output_type": "stream",
     "text": [
      "Test accuracy: 0.96\n"
     ]
    }
   ],
   "source": [
    "print('Test accuracy: {:.2f}'.format(best_rbf_model.score(X_test, y_test)))"
   ]
  }
 ],
 "metadata": {
  "kernelspec": {
   "display_name": "Python 3 (ipykernel)",
   "language": "python",
   "name": "python3"
  },
  "language_info": {
   "codemirror_mode": {
    "name": "ipython",
    "version": 3
   },
   "file_extension": ".py",
   "mimetype": "text/x-python",
   "name": "python",
   "nbconvert_exporter": "python",
   "pygments_lexer": "ipython3",
   "version": "3.9.18"
  }
 },
 "nbformat": 4,
 "nbformat_minor": 5
}
